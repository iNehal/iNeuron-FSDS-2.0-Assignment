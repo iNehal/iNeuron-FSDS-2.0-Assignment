{
 "cells": [
  {
   "cell_type": "raw",
   "id": "7b68eb15-36a2-45f1-9788-23eb08480d89",
   "metadata": {},
   "source": [
    "1. What exactly is []?\n",
    "\n",
    "Ans- The empty list represented by [] is a list that contains no items. This is similar to '' which represents an empty string."
   ]
  },
  {
   "cell_type": "raw",
   "id": "ef254429-847f-4bb4-8a60-36ebd7165e11",
   "metadata": {},
   "source": [
    "2. In a list of values stored in a variable called spam, how would you assign the value 'hello' as the third value? (Assume [2, 4, 6, 8,    10] are in spam.)\n",
    "   Let's pretend the spam includes the list ['a','b','c',d'] for the next three queries.\n",
    "\n",
    "Ans- spam[2]='hello' (Note: Lists follows zero based indexing)"
   ]
  },
  {
   "cell_type": "code",
   "execution_count": 1,
   "id": "57cf24f3-177a-4c97-bbc5-9577700766dc",
   "metadata": {},
   "outputs": [
    {
     "name": "stdout",
     "output_type": "stream",
     "text": [
      "[2, 4, 6, 8, 10]\n",
      "[2, 4, 'hello', 8, 10]\n"
     ]
    }
   ],
   "source": [
    "# Example\n",
    "spam=[2,4,6,8,10]\n",
    "print(spam)\n",
    "spam[2]='hello' #List uses zero based indexing\n",
    "print(spam)"
   ]
  },
  {
   "cell_type": "raw",
   "id": "792cb2a9-d799-4f4d-9f8c-b575be0f822d",
   "metadata": {},
   "source": [
    "3. What is the value of spam[int(int('3'*2)//11)] ?\n",
    "\n",
    "Ans- 'd' (Note that '3' * 2 is the string '33', which is passed to int() before being divided by 11. This eventually evaluates to 3,           spam[3] is equal to d.)                                      "
   ]
  },
  {
   "cell_type": "code",
   "execution_count": 8,
   "id": "ab086b81-b2da-452e-a10c-3d47cd6645a6",
   "metadata": {},
   "outputs": [
    {
     "name": "stdout",
     "output_type": "stream",
     "text": [
      "d\n"
     ]
    }
   ],
   "source": [
    "spam=['a','b','c','d']\n",
    "print (spam[int(int('3'*2)//11)])"
   ]
  },
  {
   "cell_type": "raw",
   "id": "ef9fd45d-61da-4abb-936a-18a943d290cc",
   "metadata": {},
   "source": [
    "4. What is the value of spam[-1]?\n",
    "\n",
    "Ans- 'd' (Lists support Negative indexing, Hence spam[-1] returs 'd')"
   ]
  },
  {
   "cell_type": "code",
   "execution_count": 7,
   "id": "6a9f38b8-cc67-4722-855b-aae9a865b30b",
   "metadata": {},
   "outputs": [
    {
     "name": "stdout",
     "output_type": "stream",
     "text": [
      "spam[-1] ->  d\n"
     ]
    }
   ],
   "source": [
    "spam=['a','b','c','d']\n",
    "print('spam[-1] -> ',spam[-1])"
   ]
  },
  {
   "cell_type": "raw",
   "id": "aba47e65-7fe4-4713-99fc-5456f6488117",
   "metadata": {},
   "source": [
    "5. What is the value of spam[:2]?\n",
    "    Let's pretend bacon has the list [3.14,'cat',11,'cat',True] for the next three question\n",
    "    \n",
    "Ans- spam[:2] returns all elements in the list spam from 0 to 2 excluding 2."
   ]
  },
  {
   "cell_type": "code",
   "execution_count": 11,
   "id": "a46c2eef-d8fc-428d-af4f-e77b1270b5bd",
   "metadata": {},
   "outputs": [
    {
     "name": "stdout",
     "output_type": "stream",
     "text": [
      "['a', 'b', 'c', 'd']\n",
      "spam[:2] ->  ['a', 'b']\n"
     ]
    }
   ],
   "source": [
    "spam=['a','b','c','d']\n",
    "print (spam)\n",
    "print('spam[:2] -> ',spam[:2])"
   ]
  },
  {
   "cell_type": "raw",
   "id": "f176456d-e291-4dc7-8dac-ccfa4b7f466f",
   "metadata": {},
   "source": [
    "6. What is the value of bacon.index('cat')?\n",
    "\n",
    "Ans-  The value of bacon.index('cat') is 1 (Note: index method returns the index of first occuerence of 'cat')"
   ]
  },
  {
   "cell_type": "code",
   "execution_count": 13,
   "id": "820b3e2d-6cca-4c39-90b0-a7367980a9f4",
   "metadata": {},
   "outputs": [
    {
     "name": "stdout",
     "output_type": "stream",
     "text": [
      "bacon.index('cat') -> 1\n"
     ]
    }
   ],
   "source": [
    "bacon=[3.14,'cat',11,'cat',True]\n",
    "print (\"bacon.index('cat') ->\",bacon.index('cat'))"
   ]
  },
  {
   "cell_type": "raw",
   "id": "41118c06-45eb-48b9-a1e6-fd234a90bcd6",
   "metadata": {},
   "source": [
    "7. How does bacon.append(99) change the look of the list value in bacon?\n",
    "\n",
    "Ans- The append method adds new elements to the end of the list."
   ]
  },
  {
   "cell_type": "code",
   "execution_count": 17,
   "id": "9322348e-6612-4ef9-be0c-15d79605d5aa",
   "metadata": {},
   "outputs": [
    {
     "name": "stdout",
     "output_type": "stream",
     "text": [
      "[3.14, 'cat', 11, 'cat', True]\n",
      "[3.14, 'cat', 11, 'cat', True, 99]\n"
     ]
    }
   ],
   "source": [
    "bacon=[3.14,'cat',11,'cat',True]\n",
    "print(bacon)\n",
    "bacon.append(99)\n",
    "print(bacon)"
   ]
  },
  {
   "cell_type": "raw",
   "id": "ac03195c-0c71-4e26-bc1f-c039b2804b3c",
   "metadata": {},
   "source": [
    "8. How does bacon.remove('cat') change the look of the list in bacon?\n",
    "\n",
    "Ans- The remove method removes the first occurence of the element in the list."
   ]
  },
  {
   "cell_type": "code",
   "execution_count": 19,
   "id": "711db0d8-1f19-417b-ac45-9e0f4779d779",
   "metadata": {},
   "outputs": [
    {
     "name": "stdout",
     "output_type": "stream",
     "text": [
      "[3.14, 'cat', 11, 'cat', True, 99]\n",
      "[3.14, 11, 'cat', True, 99]\n"
     ]
    }
   ],
   "source": [
    "print(bacon)\n",
    "bacon.remove('cat')\n",
    "print(bacon)"
   ]
  },
  {
   "cell_type": "raw",
   "id": "77959694-ad12-40a1-b4bf-f76bce9d99d2",
   "metadata": {},
   "source": [
    "9. What are the list concatenation and list replication operators?\n",
    "\n",
    "Ans- The operator for list concatenation is +, while the operator for replication is *. (This is the same as for strings.)"
   ]
  },
  {
   "cell_type": "code",
   "execution_count": 20,
   "id": "0efa14b3-2a7c-4f7e-8adb-611d692c1ace",
   "metadata": {},
   "outputs": [
    {
     "name": "stdout",
     "output_type": "stream",
     "text": [
      "['NL', 'HL', 'FR', 'XAT', 'MAT', 'RNN', 'CNN', 'SVN']\n",
      "['RNN', 'CNN', 'SVN', 'RNN', 'CNN', 'SVN']\n"
     ]
    }
   ],
   "source": [
    "# Example\n",
    "list_1 = ['NL','HL','FR','XAT','MAT']\n",
    "list_2 = ['RNN','CNN','SVN']\n",
    "print(list_1 + list_2) # List Concatenation\n",
    "print(list_2*2) # List Replication"
   ]
  },
  {
   "cell_type": "raw",
   "id": "e0a2ae17-2375-4cfc-ac19-3f5d93bfc651",
   "metadata": {},
   "source": [
    "10. What is difference between the list methods append() and insert()?\n",
    "\n",
    "Ans- The difference between the two methods is that . append() adds an item to the end of a list, whereas . insert() inserts and item in      a specified position in the list."
   ]
  },
  {
   "cell_type": "code",
   "execution_count": 22,
   "id": "cf16b1e9-cfc9-4609-af6c-57d02c6c9444",
   "metadata": {},
   "outputs": [
    {
     "name": "stdout",
     "output_type": "stream",
     "text": [
      "[1, 2, 3, 4, 5, 6]\n",
      "[1, 2, 'Demo', 3, 4, 5, 6]\n"
     ]
    }
   ],
   "source": [
    "#Example\n",
    "list = [1,2,3,4,5]\n",
    "list.append(6)\n",
    "print(list)\n",
    "list.insert(2,'Demo')\n",
    "print(list)"
   ]
  },
  {
   "cell_type": "raw",
   "id": "f1b312ab-ba8a-4e24-a070-c7c83edccb24",
   "metadata": {},
   "source": [
    "11. What are the two methods for removing items from a list?\n",
    "\n",
    "Ans- The two methods are remove() and pop()."
   ]
  },
  {
   "cell_type": "raw",
   "id": "a7bfd13f-c8a8-418b-8b0d-1bdf57a1d5d8",
   "metadata": {},
   "source": [
    "12. Describe how list values and string values are identical.\n",
    "\n",
    "Ans- Both lists and strings can be passed to len() function, have indexes and slices, be used in for loops, be concatenated or                replicated, and be used with the in and not in operators."
   ]
  },
  {
   "cell_type": "raw",
   "id": "27ad60dd-874e-43b6-abab-0ace84e2833a",
   "metadata": {},
   "source": [
    "13. What's the difference between tuples and lists?\n",
    "\n",
    "Ans- Lists are Mutable, Indexable and Slicable. they can have values added, removed, or changed. Tuples are Immutable but Indexable and        Slicable. the tuple values cannot be changed at all. Also, tuples are represented using parentheses, (), while lists use the square      brackets, []."
   ]
  },
  {
   "cell_type": "raw",
   "id": "f7aaa979-16ab-4a3f-a90d-b3668425d4be",
   "metadata": {},
   "source": [
    "14. How do you type a tuple value that only contains the integer 42?\n",
    "\n",
    "Ans- (42,) (The trailing comma is mandatory. otherwise its considered as a int by python Interpreter)"
   ]
  },
  {
   "cell_type": "code",
   "execution_count": 23,
   "id": "55595715-7661-4a01-8a66-acead0deb701",
   "metadata": {},
   "outputs": [
    {
     "name": "stdout",
     "output_type": "stream",
     "text": [
      "<class 'int'>\n",
      "<class 'tuple'>\n"
     ]
    }
   ],
   "source": [
    "tup1=(42)\n",
    "tup2=(42,)\n",
    "print(type(tup1))\n",
    "print(type(tup2))"
   ]
  },
  {
   "cell_type": "raw",
   "id": "c7c0b6c7-dd38-4f5d-8c6c-acf4fd7d7b1a",
   "metadata": {},
   "source": [
    "15. How do you get a list value's tuple form? How do you get a tuple value's list form?\n",
    "\n",
    "Ans- The tuple() and list() functions, respectively are used to convert a list to tuple and vice versa."
   ]
  },
  {
   "cell_type": "raw",
   "id": "5ad6ca6c-2012-4f56-af40-31580ee5f77c",
   "metadata": {},
   "source": [
    "16. Variables that \"contain\" list values are not necessarily lists themselves. Instead, what do they contain?\n",
    "    \n",
    "Ans- They contain references to list values."
   ]
  },
  {
   "cell_type": "raw",
   "id": "47624f2e-5ae5-4afe-911e-ae52dfd55fee",
   "metadata": {},
   "source": [
    "17. How do you distinguish between copy.copy() and copy.deepcopy()?\n",
    "\n",
    "Ans- The copy.copy() function will do a shallow copy of a list, while the copy.deepcopy() function will do a deep copy of a list. That        is, only copy.deepcopy() will duplicate any lists inside the list."
   ]
  }
 ],
 "metadata": {
  "kernelspec": {
   "display_name": "Python 3 (ipykernel)",
   "language": "python",
   "name": "python3"
  },
  "language_info": {
   "codemirror_mode": {
    "name": "ipython",
    "version": 3
   },
   "file_extension": ".py",
   "mimetype": "text/x-python",
   "name": "python",
   "nbconvert_exporter": "python",
   "pygments_lexer": "ipython3",
   "version": "3.10.6"
  }
 },
 "nbformat": 4,
 "nbformat_minor": 5
}
