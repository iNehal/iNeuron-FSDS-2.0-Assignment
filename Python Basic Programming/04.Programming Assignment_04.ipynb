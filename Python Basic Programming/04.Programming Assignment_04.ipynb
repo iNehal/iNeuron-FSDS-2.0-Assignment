{
 "cells": [
  {
   "cell_type": "markdown",
   "id": "1446bd5c-e90a-43e2-b2ea-101578c3e901",
   "metadata": {},
   "source": [
    "1. Write a Python Program to Find the Factorial of a Number?\n",
    "\n",
    "Ans- "
   ]
  },
  {
   "cell_type": "code",
   "execution_count": 4,
   "id": "a7c4196c-0c1e-4aa0-b7bc-c2468b2dbf68",
   "metadata": {},
   "outputs": [
    {
     "name": "stdin",
     "output_type": "stream",
     "text": [
      "Enter a number:  3\n"
     ]
    },
    {
     "name": "stdout",
     "output_type": "stream",
     "text": [
      "The Factorial of 3 is 6\n"
     ]
    }
   ],
   "source": [
    "def factorial(num):\n",
    "    if (num < 1):\n",
    "        return 1\n",
    "    else:\n",
    "        return num*factorial(num-1)\n",
    "num = int(input('Enter a number: '))\n",
    "value = factorial(num)\n",
    "print(f'The Factorial of {num} is {value}')"
   ]
  },
  {
   "cell_type": "markdown",
   "id": "8b680d1a-80e8-4a09-b3f0-808fa35c4784",
   "metadata": {},
   "source": [
    "2. Write a Python Program to Display the multiplication Table?\n",
    "\n",
    "Ans- "
   ]
  },
  {
   "cell_type": "code",
   "execution_count": 5,
   "id": "0f7e50c2-08fe-4cb6-8314-1124acc44b93",
   "metadata": {},
   "outputs": [
    {
     "name": "stdin",
     "output_type": "stream",
     "text": [
      "enter a number:  9\n"
     ]
    },
    {
     "name": "stdout",
     "output_type": "stream",
     "text": [
      "9 X 1 = 9\n",
      "9 X 2 = 18\n",
      "9 X 3 = 27\n",
      "9 X 4 = 36\n",
      "9 X 5 = 45\n",
      "9 X 6 = 54\n",
      "9 X 7 = 63\n",
      "9 X 8 = 72\n",
      "9 X 9 = 81\n",
      "9 X 10 = 90\n"
     ]
    }
   ],
   "source": [
    "num=int(input('enter a number: '))\n",
    "for i in range(1,11):\n",
    "    print(f'{num} X {i} = {num*i}')"
   ]
  },
  {
   "cell_type": "markdown",
   "id": "aa2c47c4-2667-482d-a73b-1b3105cbbfc7",
   "metadata": {},
   "source": [
    "3. Write a Python Program to Print the Fibonacci sequence?\n",
    "\n",
    "Ans- "
   ]
  },
  {
   "cell_type": "code",
   "execution_count": 6,
   "id": "0af55f88-d26b-4228-9e1f-de9e8c0302e5",
   "metadata": {},
   "outputs": [
    {
     "name": "stdin",
     "output_type": "stream",
     "text": [
      "Enter the no of fibonacci sequences you want?  7\n"
     ]
    },
    {
     "name": "stdout",
     "output_type": "stream",
     "text": [
      "The First 7 fibonacci series are:  [0, 1, 1, 2, 3, 5, 8]\n"
     ]
    }
   ],
   "source": [
    "s_count = int(input('Enter the no of fibonacci sequences you want? '))\n",
    "initial_list = [0,1]\n",
    "if s_count < 0:\n",
    "    print('Fibonacci Numbers are not available for Negative Numbers')\n",
    "elif s_count <= 2 and s_count >= 0:\n",
    "    print(initial_list)\n",
    "else:\n",
    "    for i in range(s_count):\n",
    "        if i >= 2:\n",
    "            initial_list.append(initial_list[i-1]+initial_list[i-2])\n",
    "    print(f'The First {s_count} fibonacci series are: ',initial_list)"
   ]
  },
  {
   "cell_type": "markdown",
   "id": "54f97326-9ab7-4dc1-b595-b3b83dbd4eaa",
   "metadata": {},
   "source": [
    "4. Write a Python Program to Check Armstrong Number?\n",
    "\n",
    "Ans- "
   ]
  },
  {
   "cell_type": "code",
   "execution_count": 9,
   "id": "c9bec6f0-5590-470e-8988-b65514084530",
   "metadata": {},
   "outputs": [
    {
     "name": "stdin",
     "output_type": "stream",
     "text": [
      "Enter a number:  11\n"
     ]
    },
    {
     "name": "stdout",
     "output_type": "stream",
     "text": [
      "11 is Not an Armstrong Number\n"
     ]
    },
    {
     "name": "stdin",
     "output_type": "stream",
     "text": [
      "Enter a number:  153\n"
     ]
    },
    {
     "name": "stdout",
     "output_type": "stream",
     "text": [
      "153 is an Armstrong Number\n"
     ]
    }
   ],
   "source": [
    "def checkArmstrongNumber():\n",
    "    in_num = input('Enter a number: ')\n",
    "    sum = 0\n",
    "    for char in range(len(in_num)):\n",
    "        sum = sum + pow(int(in_num[char]),3)\n",
    "    if sum == int(in_num):\n",
    "        print(f'{in_num} is an Armstrong Number')\n",
    "    else:\n",
    "        print(f'{in_num} is Not an Armstrong Number')\n",
    "\n",
    "for x in range(2):\n",
    "    checkArmstrongNumber()"
   ]
  },
  {
   "cell_type": "markdown",
   "id": "22a9705b-db51-4c37-9d22-7650f826ea88",
   "metadata": {},
   "source": [
    "5. Write a Python Program to Find Armstrong Number in an Interval?\n",
    "\n",
    "Ans- "
   ]
  },
  {
   "cell_type": "code",
   "execution_count": 13,
   "id": "badbcca7-1525-4685-9f87-bd320e54315d",
   "metadata": {},
   "outputs": [
    {
     "name": "stdin",
     "output_type": "stream",
     "text": [
      "Enter the Start of the Interval:  1\n",
      "Enter the End of the Interval:  10000\n"
     ]
    },
    {
     "name": "stdout",
     "output_type": "stream",
     "text": [
      "The Armstrong numbers between 1 and 10000 are [1, 153, 370, 371, 407]\n"
     ]
    }
   ],
   "source": [
    "def checkArmstrongNumber(in_num, storage):\n",
    "    sum = 0\n",
    "    for char in range(len(in_num)):\n",
    "        sum = sum + pow(int(in_num[char]),3)\n",
    "    if sum == int(in_num):\n",
    "        storage.append(int(in_num))\n",
    "\n",
    "start_interval = int(input('Enter the Start of the Interval: '))\n",
    "end_interval = int(input('Enter the End of the Interval: '))\n",
    "list_of_armstrong = []\n",
    "\n",
    "if start_interval > end_interval:\n",
    "    print(\"Start Interval Cannot be Greater than End Interval\")\n",
    "else:\n",
    "    for number in range(start_interval,end_interval+1):\n",
    "        checkArmstrongNumber(str(number),list_of_armstrong)\n",
    "    print(f'The Armstrong numbers between {start_interval} and {end_interval} are {list_of_armstrong}')"
   ]
  },
  {
   "cell_type": "markdown",
   "id": "06df8c54-5d68-4deb-8345-b8653fc717a8",
   "metadata": {},
   "source": [
    "6. Write a Python Program to Find the Sum of Natural Numbers?\n",
    "\n",
    "Ans- "
   ]
  },
  {
   "cell_type": "code",
   "execution_count": 17,
   "id": "744f1a59-1c23-4842-90cb-8eff3dc3e6f9",
   "metadata": {},
   "outputs": [
    {
     "name": "stdin",
     "output_type": "stream",
     "text": [
      "enter natural number:  10\n"
     ]
    },
    {
     "name": "stdout",
     "output_type": "stream",
     "text": [
      "sum of 10 is 55.0\n"
     ]
    }
   ],
   "source": [
    "num=int(input('enter natural number: '))\n",
    "sum = num*((num+1)/2)\n",
    "print(f'sum of {num} is {sum}')"
   ]
  },
  {
   "cell_type": "code",
   "execution_count": null,
   "id": "f0c14891-e80f-4e8b-8261-a464f7daacda",
   "metadata": {},
   "outputs": [],
   "source": []
  }
 ],
 "metadata": {
  "kernelspec": {
   "display_name": "Python 3 (ipykernel)",
   "language": "python",
   "name": "python3"
  },
  "language_info": {
   "codemirror_mode": {
    "name": "ipython",
    "version": 3
   },
   "file_extension": ".py",
   "mimetype": "text/x-python",
   "name": "python",
   "nbconvert_exporter": "python",
   "pygments_lexer": "ipython3",
   "version": "3.10.6"
  }
 },
 "nbformat": 4,
 "nbformat_minor": 5
}
