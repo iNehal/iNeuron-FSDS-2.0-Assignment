{
 "cells": [
  {
   "cell_type": "markdown",
   "id": "a00cc499-7351-4a1d-a47e-a4d8d0fedb88",
   "metadata": {},
   "source": [
    "Question 1:\n",
    "Write a program that calculates and prints the value according to the given formula:\n",
    "Q = Square root of [(2 * C * D)/H]\n",
    "\n",
    "Following are the fixed values of C and H:\n",
    "C is 50. H is 30.\n",
    "D is the variable whose values should be input to your program in a comma-separated\n",
    "sequence.\n",
    "\n",
    "Example\n",
    "Let us assume the following comma separated input sequence is given to the program:\n",
    "100,150,180\n",
    "The output of the program should be:\n",
    "18,22,24"
   ]
  },
  {
   "cell_type": "code",
   "execution_count": 7,
   "id": "288f5b40-c44b-43cd-8c47-0e356eadbcdc",
   "metadata": {},
   "outputs": [
    {
     "name": "stdin",
     "output_type": "stream",
     "text": [
      "Enter comma-separated values for D:  100,150,180\n"
     ]
    },
    {
     "name": "stdout",
     "output_type": "stream",
     "text": [
      "Resulting values:\n",
      "18\n",
      "22\n",
      "24\n"
     ]
    }
   ],
   "source": [
    "from math import sqrt\n",
    "\n",
    "C = 50\n",
    "H = 30\n",
    "\n",
    "def calculate_values(sequence):\n",
    "    values = sequence.split(',')\n",
    "    results = []\n",
    "    for value in values:\n",
    "        D = int(value)\n",
    "        Q = str(int(sqrt((2 * C * D) / H)))\n",
    "        results.append(Q)\n",
    "    return results\n",
    "\n",
    "input_sequence = input(\"Enter comma-separated values for D: \")\n",
    "output_values = calculate_values(input_sequence)\n",
    "print(\"Resulting values:\")\n",
    "for value in output_values:\n",
    "    print(value)\n"
   ]
  },
  {
   "cell_type": "markdown",
   "id": "5e63b093-c971-40be-89d9-d434f0a87796",
   "metadata": {},
   "source": [
    "Question 2:\n",
    "Write a program which takes 2 digits, X,Y as input and generates a 2-dimensional array. The\n",
    "element value in the i-th row and j-th column of the array should be i*j.\n",
    "\n",
    "Note: i=0,1.., X-1; j=0,1,¡Y-1.\n",
    "\n",
    "Example\n",
    "Suppose the following inputs are given to the program:\n",
    "3,5\n",
    "Then, the output of the program should be:\n",
    "[[0, 0, 0, 0, 0], [0, 1, 2, 3, 4], [0, 2, 4, 6, 8]]"
   ]
  },
  {
   "cell_type": "code",
   "execution_count": 14,
   "id": "1cc91716-18af-4717-b2b1-2d1f13b1c108",
   "metadata": {},
   "outputs": [
    {
     "name": "stdin",
     "output_type": "stream",
     "text": [
      "enter no. of rows:  3\n",
      "enter no. of columns:  5\n"
     ]
    },
    {
     "name": "stdout",
     "output_type": "stream",
     "text": [
      "[[0, 0, 0, 0, 0], [0, 1, 2, 3, 4], [0, 2, 4, 6, 8]]\n"
     ]
    }
   ],
   "source": [
    "import array\n",
    "def generatearray():\n",
    "    x=int(input('enter no. of rows: '))\n",
    "    y=int(input('enter no. of columns: '))\n",
    "    output=[]\n",
    "    for ele in range(x):\n",
    "        output.insert(x,[])\n",
    "        for sub_ele in range(y):\n",
    "            output[ele].append(ele*sub_ele)\n",
    "    print(output)\n",
    "    \n",
    "generatearray()\n"
   ]
  },
  {
   "cell_type": "markdown",
   "id": "2ca683f7-51e3-4e6c-8dbf-25b8f0690c3b",
   "metadata": {},
   "source": [
    "Question 3:\n",
    "Write a program that accepts a comma separated sequence of words as input and prints the\n",
    "words in a comma-separated sequence after sorting them alphabetically.\n",
    "\n",
    "Suppose the following input is supplied to the program:\n",
    "without,hello,bag,world\n",
    "Then, the output should be:\n",
    "bag,hello,without,world"
   ]
  },
  {
   "cell_type": "code",
   "execution_count": 17,
   "id": "f1b54822-e323-43bf-831f-d732e7b96880",
   "metadata": {},
   "outputs": [
    {
     "name": "stdin",
     "output_type": "stream",
     "text": [
      "enter the string:  without,hello,bag,world\n"
     ]
    },
    {
     "name": "stdout",
     "output_type": "stream",
     "text": [
      "bag,hello,without,world\n"
     ]
    }
   ],
   "source": [
    "def sortstring():\n",
    "    string=input('enter the string: ')\n",
    "    output=','.join(sorted(string.split(',')))\n",
    "    print(output)\n",
    "sortstring()    "
   ]
  },
  {
   "cell_type": "markdown",
   "id": "ce9bee28-09a4-4262-9d52-28a18e6abb20",
   "metadata": {},
   "source": [
    "Question 4:\n",
    "Write a program that accepts a sequence of whitespace separated words as input and prints\n",
    "the words after removing all duplicate words and sorting them alphanumerically.\n",
    "\n",
    "Suppose the following input is supplied to the program:\n",
    "hello world and practice makes perfect and hello world again\n",
    "Then, the output should be:\n",
    "again and hello makes perfect practice world"
   ]
  },
  {
   "cell_type": "code",
   "execution_count": 2,
   "id": "0278a855-5f1e-4a5b-bec1-2f0cfdebf821",
   "metadata": {},
   "outputs": [
    {
     "name": "stdin",
     "output_type": "stream",
     "text": [
      "enter the string:  hello world and practice makes perfect and hello world again\n"
     ]
    },
    {
     "name": "stdout",
     "output_type": "stream",
     "text": [
      "again and hello makes perfect practice world\n"
     ]
    }
   ],
   "source": [
    "def removeduplicateandsort():\n",
    "    string=input('enter the string: ')\n",
    "    output=' '.join(sorted(list(set(string.split(' ')))))\n",
    "    print(output)\n",
    "removeduplicateandsort()    "
   ]
  },
  {
   "cell_type": "markdown",
   "id": "383842cd-a0df-4e48-8dca-d0b129a098cb",
   "metadata": {},
   "source": [
    "Question 5:\n",
    "Write a program that accepts a sentence and calculate the number of letters and digits.\n",
    "Suppose the following input is supplied to the program:\n",
    "\n",
    "hello world! 123\n",
    "Then, the output should be:\n",
    "LETTERS 10\n",
    "DIGITS 3"
   ]
  },
  {
   "cell_type": "code",
   "execution_count": 4,
   "id": "82b5e801-6918-46ce-aa45-dded62a99ed3",
   "metadata": {},
   "outputs": [
    {
     "name": "stdin",
     "output_type": "stream",
     "text": [
      "enter alphanumeric data:  hello world! 123\n"
     ]
    },
    {
     "name": "stdout",
     "output_type": "stream",
     "text": [
      "LETTERS 10\n",
      "DIGITS 3\n"
     ]
    }
   ],
   "source": [
    "def calculatenumanddigit():\n",
    "    string=input('enter alphanumeric data: ')\n",
    "    letters=0\n",
    "    digit=0\n",
    "    for i in string:\n",
    "        if i .isalpha():\n",
    "            letters+=1\n",
    "        elif i .isdigit():\n",
    "            digit+=1\n",
    "    print(f'LETTERS {letters}')\n",
    "    print(f'DIGITS {digit}')\n",
    "calculatenumanddigit()"
   ]
  },
  {
   "cell_type": "markdown",
   "id": "891482dc-cae0-49cd-9bd0-f817db0c1e5d",
   "metadata": {},
   "source": [
    "Question 6:\n",
    "A website requires the users to input username and password to register. Write a program to\n",
    "check the validity of password input by users.\n",
    "\n",
    "Following are the criteria for checking the password:\n",
    "1. At least 1 letter between [a-z]\n",
    "2. At least 1 number between [0-9]\n",
    "1. At least 1 letter between [A-Z]\n",
    "3. At least 1 character from [$#@]\n",
    "4. Minimum length of transaction password: 6\n",
    "5. Maximum length of transaction password: 12\n",
    "                              \n",
    "Your program should accept a sequence of comma separated passwords and will check them\n",
    "according to the above criteria. Passwords that match the criteria are to be printed, each\n",
    "separated by a comma.\n",
    "                              \n",
    "Example\n",
    "If the following passwords are given as input to the program:\n",
    "ABd1234@1,a F1#,2w3E*,2We3345\n",
    "Then, the output of the program should be:\n",
    "ABd1234@1"
   ]
  },
  {
   "cell_type": "code",
   "execution_count": 11,
   "id": "6dc4038f-8add-47f6-bbad-1c042b338c6d",
   "metadata": {},
   "outputs": [
    {
     "name": "stdin",
     "output_type": "stream",
     "text": [
      "enter password:  ABd1234@1,a F1#,2w3E*,2We3345\n"
     ]
    },
    {
     "name": "stdout",
     "output_type": "stream",
     "text": [
      "ABd1234@1\n"
     ]
    }
   ],
   "source": [
    "def checkcriteriaforpassword():\n",
    "    string=input('enter password: ')\n",
    "    special_list='$#@'\n",
    "    for e in string.split(','):\n",
    "        if len(e)>=6 and len(e)<=12:\n",
    "            if any(i.isupper() for i in e):\n",
    "                if any(i.islower() for i in e):\n",
    "                    if any(i for i in e if i in special_list):\n",
    "                        print(e)\n",
    "checkcriteriaforpassword()"
   ]
  },
  {
   "cell_type": "code",
   "execution_count": null,
   "id": "c61e11a6-a4d9-4009-834c-2dbe33c516a7",
   "metadata": {},
   "outputs": [],
   "source": []
  }
 ],
 "metadata": {
  "kernelspec": {
   "display_name": "Python 3 (ipykernel)",
   "language": "python",
   "name": "python3"
  },
  "language_info": {
   "codemirror_mode": {
    "name": "ipython",
    "version": 3
   },
   "file_extension": ".py",
   "mimetype": "text/x-python",
   "name": "python",
   "nbconvert_exporter": "python",
   "pygments_lexer": "ipython3",
   "version": "3.10.6"
  }
 },
 "nbformat": 4,
 "nbformat_minor": 5
}
