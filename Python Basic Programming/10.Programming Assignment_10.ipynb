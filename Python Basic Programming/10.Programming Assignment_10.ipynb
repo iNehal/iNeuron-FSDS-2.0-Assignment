{
 "cells": [
  {
   "cell_type": "markdown",
   "id": "9ec030ba-534d-4745-b316-e211e131160f",
   "metadata": {},
   "source": [
    "1. Write a Python program to find sum of elements in list?\n",
    "\n",
    "Ans- "
   ]
  },
  {
   "cell_type": "code",
   "execution_count": 1,
   "id": "52084261-387e-4790-beb4-a8b6696aaf81",
   "metadata": {},
   "outputs": [
    {
     "name": "stdin",
     "output_type": "stream",
     "text": [
      "Enter the No of Entries in a List:  4\n",
      "Enter a element:  1\n",
      "Enter a element:  2\n",
      "Enter a element:  7\n",
      "Enter a element:  8\n"
     ]
    },
    {
     "name": "stdout",
     "output_type": "stream",
     "text": [
      "Sum of Elements: 18\n"
     ]
    }
   ],
   "source": [
    "def sumofList():\n",
    "    ele = int(input('Enter the No of Entries in a List: '))\n",
    "    in_list = []\n",
    "    for i in range(ele):\n",
    "        in_list.append(int(input('Enter a element: ')))\n",
    "    print(f'Sum of Elements: {sum(in_list)}')\n",
    "\n",
    "sumofList()"
   ]
  },
  {
   "cell_type": "markdown",
   "id": "befad826-04c9-4127-ab95-e932d9e04f42",
   "metadata": {},
   "source": [
    "2. Write a Python program to Multiply all numbers in the list?\n",
    "\n",
    "Ans- "
   ]
  },
  {
   "cell_type": "code",
   "execution_count": 9,
   "id": "559306fa-c9cd-4159-a794-4022f0ce185e",
   "metadata": {},
   "outputs": [
    {
     "name": "stdin",
     "output_type": "stream",
     "text": [
      "Enter the No of Entries in a List:  4\n",
      "Enter a element:  7\n",
      "Enter a element:  8\n",
      "Enter a element:  1\n",
      "Enter a element:  2\n"
     ]
    },
    {
     "name": "stdout",
     "output_type": "stream",
     "text": [
      "112\n"
     ]
    }
   ],
   "source": [
    "def mulofList():\n",
    "    in_ele = int(input('Enter the No of Entries in a List: '))\n",
    "    in_list = []\n",
    "    mul = 1\n",
    "    for itr in range(in_ele):\n",
    "        in_list.append(int(input('Enter a element: ')))\n",
    "    for i in in_list:\n",
    "        mul = mul * i\n",
    "    print(mul)\n",
    "\n",
    "mulofList()"
   ]
  },
  {
   "cell_type": "markdown",
   "id": "f0f1b692-35da-4a1b-8ddf-ad9b00a7d0aa",
   "metadata": {},
   "source": [
    "3. Write a Python program to find smallest number in a list?\n",
    "\n",
    "Ans- "
   ]
  },
  {
   "cell_type": "code",
   "execution_count": 10,
   "id": "b42cc25c-4a25-42c9-a445-7319c169dd78",
   "metadata": {},
   "outputs": [
    {
     "name": "stdin",
     "output_type": "stream",
     "text": [
      "Enter the No of elements in a list:  3\n",
      "Enter a Element:  3\n",
      "Enter a Element:  2\n",
      "Enter a Element:  1\n"
     ]
    },
    {
     "name": "stdout",
     "output_type": "stream",
     "text": [
      "The Smallest Element in [3, 2, 1] is 1\n"
     ]
    }
   ],
   "source": [
    "def smallEleInList():\n",
    "    in_ele = int(input('Enter the No of elements in a list: '))\n",
    "    in_list = []\n",
    "    for ele in range(in_ele):\n",
    "        in_list.append(int(input('Enter a Element: ')))\n",
    "    print(f'The Smallest Element in {in_list} is {sorted(in_list)[0]}')\n",
    "smallEleInList()"
   ]
  },
  {
   "cell_type": "markdown",
   "id": "c1bbe379-67ef-4e73-9820-ce837ff2b72b",
   "metadata": {},
   "source": [
    "4. Write a Python program to find largest number in a list?\n",
    "\n",
    "Ans- "
   ]
  },
  {
   "cell_type": "code",
   "execution_count": 12,
   "id": "520cb596-e8e8-423b-95b4-3b416bd49b89",
   "metadata": {},
   "outputs": [
    {
     "name": "stdin",
     "output_type": "stream",
     "text": [
      "Enter the No of elements in a list:  5\n",
      "Enter a Element:  10\n",
      "Enter a Element:  48\n",
      "Enter a Element:  7\n",
      "Enter a Element:  98\n",
      "Enter a Element:  59\n"
     ]
    },
    {
     "name": "stdout",
     "output_type": "stream",
     "text": [
      "The Smallest Element in [10, 48, 7, 98, 59] is 98\n"
     ]
    }
   ],
   "source": [
    "def largestEleInList():\n",
    "    in_ele = int(input('Enter the No of elements in a list: '))\n",
    "    in_list = []\n",
    "    for ele in range(in_ele):\n",
    "        in_list.append(int(input('Enter a Element: ')))\n",
    "    print(f'The Smallest Element in {in_list} is {sorted(in_list)[-1]}')\n",
    "largestEleInList()"
   ]
  },
  {
   "cell_type": "markdown",
   "id": "6f3a6771-d79b-423d-b9d9-45ae559c83ff",
   "metadata": {},
   "source": [
    "5. Write a Python program to find second largest number in a list?\n",
    "\n",
    "Ans- "
   ]
  },
  {
   "cell_type": "code",
   "execution_count": 13,
   "id": "798ee821-45b0-45c3-a041-444e7b67ceb9",
   "metadata": {},
   "outputs": [
    {
     "name": "stdin",
     "output_type": "stream",
     "text": [
      "Enter the No of elements in a list:  5\n",
      "Enter a Element:  10\n",
      "Enter a Element:  48\n",
      "Enter a Element:  7\n",
      "Enter a Element:  98\n",
      "Enter a Element:  59\n"
     ]
    },
    {
     "name": "stdout",
     "output_type": "stream",
     "text": [
      "The Smallest Element in [10, 48, 7, 98, 59] is 59\n"
     ]
    }
   ],
   "source": [
    "def secondlargeEleInList():\n",
    "    in_ele = int(input('Enter the No of elements in a list: '))\n",
    "    in_list = []\n",
    "    for ele in range(in_ele):\n",
    "        in_list.append(int(input('Enter a Element: ')))\n",
    "    print(f'The Smallest Element in {in_list} is {sorted(in_list)[-2]}')\n",
    "secondlargeEleInList()"
   ]
  },
  {
   "cell_type": "markdown",
   "id": "c7796c79-8653-4934-9b36-865d46d1a183",
   "metadata": {},
   "source": [
    "6. Write a Python program to find N largest elements from a list?\n",
    "\n",
    "Ans- "
   ]
  },
  {
   "cell_type": "code",
   "execution_count": 14,
   "id": "1f46f497-6ca9-43a7-95ab-e6b41dd6a417",
   "metadata": {},
   "outputs": [
    {
     "name": "stdin",
     "output_type": "stream",
     "text": [
      "Enter the No of elements in a list:  5\n",
      "Enter a Element:  1\n",
      "Enter a Element:  5\n",
      "Enter a Element:  2\n",
      "Enter a Element:  3\n",
      "Enter a Element:  4\n"
     ]
    },
    {
     "name": "stdout",
     "output_type": "stream",
     "text": [
      "The 4 Largest Element in [1, 5, 2, 3, 4] is [5, 4, 3, 2]\n"
     ]
    }
   ],
   "source": [
    "def nLargestEleInList(k):\n",
    "    in_ele = int(input('Enter the No of elements in a list: '))\n",
    "    in_list = []\n",
    "    for ele in range(in_ele):\n",
    "        in_list.append(int(input('Enter a Element: ')))\n",
    "    print(f'The {k} Largest Element in {in_list} is {sorted(in_list, reverse=True)[0:k]}')\n",
    "\n",
    "nLargestEleInList(4)"
   ]
  },
  {
   "cell_type": "markdown",
   "id": "cbaf9288-beb5-4536-afb9-c2568f004385",
   "metadata": {},
   "source": [
    "7. Write a Python program to print even numbers in a list?\n",
    "\n",
    "Ans- "
   ]
  },
  {
   "cell_type": "code",
   "execution_count": 17,
   "id": "85366fe2-9f8f-4822-833d-574d03c62ad6",
   "metadata": {},
   "outputs": [
    {
     "name": "stdout",
     "output_type": "stream",
     "text": [
      "Even numbers in the list:\n",
      "2\n",
      "4\n",
      "6\n",
      "8\n",
      "10\n"
     ]
    }
   ],
   "source": [
    "def print_even_numbers(numbers):\n",
    "    even_numbers = [num for num in numbers if num % 2 == 0]\n",
    "    for num in even_numbers:\n",
    "        print(num)\n",
    "\n",
    "\n",
    "# Example usage\n",
    "numbers_list = [1, 2, 3, 4, 5, 6, 7, 8, 9, 10]\n",
    "print(\"Even numbers in the list:\")\n",
    "print_even_numbers(numbers_list)\n"
   ]
  },
  {
   "cell_type": "markdown",
   "id": "4184f535-b3b0-4ba3-8108-d0c7e6781e37",
   "metadata": {},
   "source": [
    "8. Write a Python program to print odd numbers in a List?\n",
    "\n",
    "Ans- "
   ]
  },
  {
   "cell_type": "code",
   "execution_count": 18,
   "id": "dc5091f4-0842-47f9-93a3-8cf2f81651fd",
   "metadata": {},
   "outputs": [
    {
     "name": "stdout",
     "output_type": "stream",
     "text": [
      "Even numbers in the list:\n",
      "1\n",
      "3\n",
      "5\n",
      "7\n",
      "9\n"
     ]
    }
   ],
   "source": [
    "def print_even_numbers(numbers):\n",
    "    even_numbers = [num for num in numbers if num % 2 != 0]\n",
    "    for num in even_numbers:\n",
    "        print(num)\n",
    "\n",
    "\n",
    "# Example usage\n",
    "numbers_list = [1, 2, 3, 4, 5, 6, 7, 8, 9, 10]\n",
    "print(\"Even numbers in the list:\")\n",
    "print_even_numbers(numbers_list)"
   ]
  },
  {
   "cell_type": "markdown",
   "id": "0dc395be-952f-4a2f-b90b-51d1d331f786",
   "metadata": {},
   "source": [
    "9. Write a Python program to Remove empty List from List?\n",
    "\n",
    "Ans- "
   ]
  },
  {
   "cell_type": "code",
   "execution_count": 27,
   "id": "c451d519-5eb8-4b47-a7af-3f65c76cfaf9",
   "metadata": {},
   "outputs": [
    {
     "name": "stdout",
     "output_type": "stream",
     "text": [
      "Original list: [1, [], 2, [], 3, [], 4, [], 5]\n",
      "List after removing empty lists: [1, 2, 3, 4, 5]\n"
     ]
    }
   ],
   "source": [
    "def remove_empty_lists(lst):\n",
    "    while [] in lst:\n",
    "        lst.remove([])\n",
    "    return lst\n",
    "\n",
    "\n",
    "# Example usage\n",
    "list_with_empty_lists = [1, [], 2, [], 3, [], 4, [], 5]\n",
    "print(\"Original list:\", list_with_empty_lists)\n",
    "\n",
    "filtered_list = remove_empty_lists(list_with_empty_lists)\n",
    "print(\"List after removing empty lists:\", filtered_list)\n"
   ]
  },
  {
   "cell_type": "markdown",
   "id": "7d1e951a-d2a9-4453-9dc0-089978581d80",
   "metadata": {},
   "source": [
    "10. Write a Python program to Cloning or Copying a list?\n",
    "\n",
    "Ans- "
   ]
  },
  {
   "cell_type": "code",
   "execution_count": 29,
   "id": "25534837-6299-45bc-88cc-6d3840a51e02",
   "metadata": {},
   "outputs": [
    {
     "name": "stdin",
     "output_type": "stream",
     "text": [
      "Enter a list [1,2,3,4,5,6,7,8,9,0]\n"
     ]
    },
    {
     "name": "stdout",
     "output_type": "stream",
     "text": [
      "[1, 2, 3, 4, 5, 6, 7, 8, 9, 0] 140713465004224\n",
      "[1, 2, 3, 4, 5, 6, 7, 8, 9, 0] 140713464928640\n"
     ]
    }
   ],
   "source": [
    "import copy\n",
    "\n",
    "def cloneList():\n",
    "    in_list = eval(input('Enter a list'))\n",
    "    print(in_list, id(in_list))\n",
    "    cloned_list = in_list.copy()\n",
    "    print(cloned_list, id(cloned_list))\n",
    "\n",
    "cloneList()"
   ]
  },
  {
   "cell_type": "markdown",
   "id": "65dde921-b11e-415d-a558-da0744c2d744",
   "metadata": {},
   "source": [
    "11. Write a Python program to Count occurrences of an element in a list?\n",
    "\n",
    "Ans- "
   ]
  },
  {
   "cell_type": "code",
   "execution_count": 34,
   "id": "8d33374c-aefc-4a18-892e-f0cf94d04ee9",
   "metadata": {},
   "outputs": [
    {
     "name": "stdin",
     "output_type": "stream",
     "text": [
      "Enter the elements of the list:  [1,2,3,1,2,3,1,2,3,4,5,6,4,5,6]\n",
      "Enter the element to find:  5\n"
     ]
    },
    {
     "name": "stdout",
     "output_type": "stream",
     "text": [
      "There are 2 occurences of 5 in [1, 2, 3, 1, 2, 3, 1, 2, 3, 4, 5, 6, 4, 5, 6]\n"
     ]
    }
   ],
   "source": [
    "def checkOccurence():\n",
    "    in_list = eval(input('Enter the elements of the list: '))\n",
    "    in_num = eval(input('Enter the element to find: '))\n",
    "    count = 0\n",
    "    if in_num in in_list:\n",
    "        for ele in in_list:\n",
    "            if ele == in_num:\n",
    "                count = count+1\n",
    "    print(f'There are {count} occurences of {in_num} in {in_list}')\n",
    "    \n",
    "checkOccurence()"
   ]
  },
  {
   "cell_type": "code",
   "execution_count": null,
   "id": "45d07af5-78cf-4a00-abab-6a0a5230727c",
   "metadata": {},
   "outputs": [],
   "source": []
  }
 ],
 "metadata": {
  "kernelspec": {
   "display_name": "Python 3 (ipykernel)",
   "language": "python",
   "name": "python3"
  },
  "language_info": {
   "codemirror_mode": {
    "name": "ipython",
    "version": 3
   },
   "file_extension": ".py",
   "mimetype": "text/x-python",
   "name": "python",
   "nbconvert_exporter": "python",
   "pygments_lexer": "ipython3",
   "version": "3.10.6"
  }
 },
 "nbformat": 4,
 "nbformat_minor": 5
}
