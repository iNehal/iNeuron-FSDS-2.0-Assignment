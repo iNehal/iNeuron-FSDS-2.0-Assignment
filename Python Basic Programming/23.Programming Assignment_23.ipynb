{
 "cells": [
  {
   "cell_type": "markdown",
   "id": "fa5b1add-c6a1-4293-bdf9-d9734a31ce9a",
   "metadata": {},
   "source": [
    "Question 1\n",
    "Create a function that takes a number as an argument and returns True or False depending on whether the number is symmetrical or not. A number is symmetrical when it is the same as its reverse.\n",
    "Examples\n",
    "is_symmetrical(7227) ➞ True\n",
    "is_symmetrical(12567) ➞ False\n",
    "is_symmetrical(44444444) ➞ True\n",
    "is_symmetrical(9939) ➞ False\n",
    "is_symmetrical(1112111) ➞ True"
   ]
  },
  {
   "cell_type": "code",
   "execution_count": 1,
   "id": "253798e8-2700-42ad-9cd7-d0816aa44d07",
   "metadata": {},
   "outputs": [
    {
     "name": "stdout",
     "output_type": "stream",
     "text": [
      "7227 ➞ True\n",
      "12567 ➞ False\n",
      "44444444 ➞ True\n",
      "9939 ➞ False\n",
      "1112111 ➞ True\n"
     ]
    }
   ],
   "source": [
    "def is_symmetrical(in_num):\n",
    "    if str(in_num) == str(in_num)[::-1]:\n",
    "        print(f'{in_num} ➞ {True}')\n",
    "    else:\n",
    "        print(f'{in_num} ➞ {False}')\n",
    "\n",
    "is_symmetrical(7227)\n",
    "is_symmetrical(12567)\n",
    "is_symmetrical(44444444)\n",
    "is_symmetrical(9939)\n",
    "is_symmetrical(1112111)"
   ]
  },
  {
   "cell_type": "markdown",
   "id": "d88cdfd0-2ae0-4135-bb9b-bdd1d2f4c1c3",
   "metadata": {},
   "source": []
  },
  {
   "cell_type": "markdown",
   "id": "0d0bc265-929c-42f3-88b7-651b80341b27",
   "metadata": {},
   "source": [
    "Question 2\n",
    "Given a string of numbers separated by a comma and space, return the product of the numbers.\n",
    "Examples:\n",
    "multiply_nums(\"2, 3\") ➞ 6\n",
    "multiply_nums(\"1, 2, 3, 4\") ➞ 24\n",
    "multiply_nums(\"54, 75, 453, 0\") ➞ 0\n",
    "multiply_nums(\"10, -2\") ➞ -20"
   ]
  },
  {
   "cell_type": "code",
   "execution_count": 2,
   "id": "0552ca9b-1e3f-4d38-8d20-5c4978001305",
   "metadata": {},
   "outputs": [
    {
     "name": "stdout",
     "output_type": "stream",
     "text": [
      "2, 3 ➞ 6\n",
      "1, 2, 3, 4 ➞ 24\n",
      "54, 75, 453, 0 ➞ 0\n",
      "10, -2 ➞ -20\n"
     ]
    }
   ],
   "source": [
    "def multiply_nums(in_string):\n",
    "    out_string = in_string.replace(' ','').split(',')\n",
    "    out_num = 1\n",
    "    for ele in out_string:\n",
    "        out_num *= int(ele)\n",
    "    print(f'{in_string} ➞ {out_num}')\n",
    "    \n",
    "multiply_nums(\"2, 3\")\n",
    "multiply_nums(\"1, 2, 3, 4\")\n",
    "multiply_nums(\"54, 75, 453, 0\")\n",
    "multiply_nums(\"10, -2\")"
   ]
  },
  {
   "cell_type": "markdown",
   "id": "db2a23e3-5d18-4f99-817b-edfd44642b27",
   "metadata": {},
   "source": []
  },
  {
   "cell_type": "markdown",
   "id": "828d8237-4cb7-4261-856c-fa991a8e2808",
   "metadata": {},
   "source": [
    "Question 3\n",
    "Create a function that squares every digit of a number.\n",
    "Examples\n",
    "square_digits(9119) ➞ 811181\n",
    "square_digits(2483) ➞ 416649\n",
    "square_digits(3212) ➞ 9414\n",
    "Notes\n",
    "The function receives an integer and must return an integer."
   ]
  },
  {
   "cell_type": "code",
   "execution_count": 3,
   "id": "3bb830df-2fa9-4680-8413-9d227d92f4d0",
   "metadata": {},
   "outputs": [
    {
     "name": "stdout",
     "output_type": "stream",
     "text": [
      "9119 ➞ 811181\n",
      "2483 ➞ 416649\n",
      "3212 ➞ 9414\n"
     ]
    }
   ],
   "source": [
    "def square_digits(in_num):\n",
    "    in_list = [str(int(ele)**2) for ele in str(in_num)]\n",
    "    out_list = ''.join(in_list)\n",
    "    print(f'{in_num} ➞ {int(out_list)}')\n",
    "\n",
    "square_digits(9119)\n",
    "square_digits(2483)\n",
    "square_digits(3212)"
   ]
  },
  {
   "cell_type": "markdown",
   "id": "1b3a61b9-cc14-49e2-aa97-6aa3050fe868",
   "metadata": {},
   "source": []
  },
  {
   "cell_type": "markdown",
   "id": "760e5399-6615-4b29-b9b6-12891e6e60b5",
   "metadata": {},
   "source": [
    "Question 4\n",
    "Create a function that sorts a list and removes all duplicate items from it.\n",
    "Examples\n",
    "setify([1, 3, 3, 5, 5]) ➞ [1, 3, 5]\n",
    "setify([4, 4, 4, 4]) ➞ [4]\n",
    "setify([5, 7, 8, 9, 10, 15]) ➞ [5, 7, 8, 9, 10, 15]\n",
    "setify([3, 3, 3, 2, 1]) ➞ [1, 2, 3]"
   ]
  },
  {
   "cell_type": "code",
   "execution_count": 1,
   "id": "3abb2470-0dfd-46f9-af46-6f10ffb4e9c5",
   "metadata": {},
   "outputs": [
    {
     "name": "stdout",
     "output_type": "stream",
     "text": [
      "[1, 3, 3, 5, 5] ➞ [1, 3, 5]\n",
      "[4, 4, 4, 4] ➞ [4]\n",
      "[5, 7, 8, 9, 10, 15] ➞ [5, 7, 8, 9, 10, 15]\n",
      "[3, 3, 3, 2, 1] ➞ [1, 2, 3]\n"
     ]
    }
   ],
   "source": [
    "def setify(in_list):\n",
    "    out_list = sorted(set(in_list))\n",
    "    print(f'{in_list} ➞ {out_list}')\n",
    "    \n",
    "setify([1, 3, 3, 5, 5]) \n",
    "setify([4, 4, 4, 4])\n",
    "setify([5, 7, 8, 9, 10, 15])\n",
    "setify([3, 3, 3, 2, 1])"
   ]
  },
  {
   "cell_type": "markdown",
   "id": "28279680-97d5-451b-8e75-731f0f65df3c",
   "metadata": {},
   "source": []
  },
  {
   "cell_type": "markdown",
   "id": "0a6ba3e9-814a-4be3-8154-d945793bccfd",
   "metadata": {},
   "source": [
    "Question 5\n",
    "Create a function that returns the mean of all digits.\n",
    "Examples\n",
    "mean(42) ➞ 3\n",
    "mean(12345) ➞ 3\n",
    "mean(666) ➞ 6\n",
    "Notes\n",
    " The mean of all digits is the sum of digits / how many digits there are (e.g. mean of digits in 512 is (5+1+2)/3(number of digits) = 8/3=2).\n",
    " The mean will always be an integer."
   ]
  },
  {
   "cell_type": "code",
   "execution_count": 2,
   "id": "2a28ccd4-c8c2-4632-a708-52c75df6f832",
   "metadata": {},
   "outputs": [
    {
     "name": "stdout",
     "output_type": "stream",
     "text": [
      "Mean of 42  ➞ 3\n",
      "Mean of 12345  ➞ 3\n",
      "Mean of 666  ➞ 6\n"
     ]
    }
   ],
   "source": [
    "def mean(in_num):\n",
    "    in_list = [int(ele) for ele in str(in_num)]\n",
    "    out_num = sum(in_list)/len(str(in_num))\n",
    "    print(f'Mean of {in_num}  ➞ {out_num:.0f}')\n",
    "    \n",
    "mean(42)\n",
    "mean(12345)\n",
    "mean(666)"
   ]
  },
  {
   "cell_type": "code",
   "execution_count": null,
   "id": "3501f48a-f346-4fca-ac5c-f6b9547dcc2b",
   "metadata": {},
   "outputs": [],
   "source": []
  }
 ],
 "metadata": {
  "kernelspec": {
   "display_name": "Python 3 (ipykernel)",
   "language": "python",
   "name": "python3"
  },
  "language_info": {
   "codemirror_mode": {
    "name": "ipython",
    "version": 3
   },
   "file_extension": ".py",
   "mimetype": "text/x-python",
   "name": "python",
   "nbconvert_exporter": "python",
   "pygments_lexer": "ipython3",
   "version": "3.10.6"
  }
 },
 "nbformat": 4,
 "nbformat_minor": 5
}
