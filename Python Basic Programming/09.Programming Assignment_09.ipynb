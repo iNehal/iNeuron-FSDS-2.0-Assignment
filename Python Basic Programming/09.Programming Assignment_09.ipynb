{
 "cells": [
  {
   "cell_type": "markdown",
   "id": "804d2e0a-2e0d-47ea-91e2-c30945870342",
   "metadata": {},
   "source": [
    "1. Write a Python program to check if the given number is a Disarium Number?\n",
    "\n",
    "Ans-"
   ]
  },
  {
   "cell_type": "code",
   "execution_count": 5,
   "id": "99ad4105-f350-475e-b8b7-00160598165c",
   "metadata": {},
   "outputs": [
    {
     "name": "stdin",
     "output_type": "stream",
     "text": [
      "enter a number:  135\n"
     ]
    },
    {
     "name": "stdout",
     "output_type": "stream",
     "text": [
      "135 is Disarium no.\n"
     ]
    },
    {
     "name": "stdin",
     "output_type": "stream",
     "text": [
      "enter a number:  101\n"
     ]
    },
    {
     "name": "stdout",
     "output_type": "stream",
     "text": [
      "101 is not Disarium no.\n"
     ]
    }
   ],
   "source": [
    "def checkdisariumnum():\n",
    "    num=input('enter a number: ')\n",
    "    sum=0\n",
    "    for i in range(len(num)):\n",
    "        sum=sum+int(num[i])**(i+1)\n",
    "    if sum==int(num):\n",
    "        print(f'{num} is Disarium no.')\n",
    "    else:\n",
    "        print(f'{num} is not Disarium no.')\n",
    "checkdisariumnum()\n",
    "checkdisariumnum()"
   ]
  },
  {
   "cell_type": "markdown",
   "id": "bda8ff9d-e72e-40d3-92c1-e68e7f516875",
   "metadata": {},
   "source": [
    "2. Write a Python program to print all disarium numbers between 1 to 100?\n",
    "\n",
    "Ans- "
   ]
  },
  {
   "cell_type": "code",
   "execution_count": 7,
   "id": "495f295e-48b1-4fd6-9e99-f1bb5375b74b",
   "metadata": {},
   "outputs": [
    {
     "name": "stdout",
     "output_type": "stream",
     "text": [
      "Disarium numbers between 1 to 100:\n",
      "1\n",
      "2\n",
      "3\n",
      "4\n",
      "5\n",
      "6\n",
      "7\n",
      "8\n",
      "9\n",
      "89\n"
     ]
    }
   ],
   "source": [
    "def is_disarium(n):\n",
    "    num_str = str(n)\n",
    "    length = len(num_str)\n",
    "    disarium_sum = sum(int(num_str[i]) ** (i + 1) for i in range(length))\n",
    "    return disarium_sum == n\n",
    "\n",
    "print(\"Disarium numbers between 1 to 100:\")\n",
    "for i in range(1, 101):\n",
    "    if is_disarium(i):\n",
    "        print(i)\n"
   ]
  },
  {
   "cell_type": "markdown",
   "id": "21848043-69f6-4e76-9f88-5e75a6606118",
   "metadata": {},
   "source": [
    "3. Write a Python program to check if the given number is Happy Number?\n",
    "\n",
    "Ans- "
   ]
  },
  {
   "cell_type": "code",
   "execution_count": 8,
   "id": "42982543-ad37-4cd8-951d-1cd6dbb23362",
   "metadata": {},
   "outputs": [
    {
     "name": "stdin",
     "output_type": "stream",
     "text": [
      "Enter a number:  158\n"
     ]
    },
    {
     "name": "stdout",
     "output_type": "stream",
     "text": [
      "158 is not a happy number.\n"
     ]
    }
   ],
   "source": [
    "def is_happy_number(n):\n",
    "    seen = set()\n",
    "    \n",
    "    while True:\n",
    "        n = sum(int(digit) ** 2 for digit in str(n))\n",
    "        \n",
    "        if n == 1:\n",
    "            return True\n",
    "        \n",
    "        if n in seen:\n",
    "            return False\n",
    "        \n",
    "        seen.add(n)\n",
    "\n",
    "num = int(input(\"Enter a number: \"))\n",
    "if is_happy_number(num):\n",
    "    print(num, \"is a happy number.\")\n",
    "else:\n",
    "    print(num, \"is not a happy number.\")\n"
   ]
  },
  {
   "cell_type": "markdown",
   "id": "855a82dd-0287-4db3-bfaf-722ebe3db808",
   "metadata": {},
   "source": [
    "4. Write a Python program to print all happy numbers between 1 and 100?\n",
    "\n",
    "Ans- "
   ]
  },
  {
   "cell_type": "code",
   "execution_count": 1,
   "id": "66d4845c-0b4b-4d84-b69d-1c4579ae8a85",
   "metadata": {},
   "outputs": [
    {
     "name": "stdout",
     "output_type": "stream",
     "text": [
      "Disarium numbers between 1 to 100:\n",
      "1\n",
      "7\n",
      "10\n",
      "13\n",
      "19\n",
      "23\n",
      "28\n",
      "31\n",
      "32\n",
      "44\n",
      "49\n",
      "68\n",
      "70\n",
      "79\n",
      "82\n",
      "86\n",
      "91\n",
      "94\n",
      "97\n",
      "100\n"
     ]
    }
   ],
   "source": [
    "def happynumber(n):\n",
    "    seen = set()\n",
    "    \n",
    "    while True:\n",
    "        n = sum(int(digit) ** 2 for digit in str(n))\n",
    "        \n",
    "        if n == 1:\n",
    "            return True\n",
    "        \n",
    "        if n in seen:\n",
    "            return False\n",
    "        \n",
    "        seen.add(n)\n",
    "\n",
    "print(\"Disarium numbers between 1 to 100:\")\n",
    "for i in range(1, 101):\n",
    "    if happynumber(i):\n",
    "        print(i)"
   ]
  },
  {
   "cell_type": "markdown",
   "id": "f6f225b6-74c3-4c74-a48a-3f39bb8a3236",
   "metadata": {},
   "source": [
    "5. Write a Python program to determine whether the given number is a Harshad Number?\n",
    "\n",
    "Ans- "
   ]
  },
  {
   "cell_type": "code",
   "execution_count": 11,
   "id": "80da0770-cf58-46b3-b257-3465965dc4e5",
   "metadata": {},
   "outputs": [
    {
     "name": "stdin",
     "output_type": "stream",
     "text": [
      "enter a number:  171\n"
     ]
    },
    {
     "name": "stdout",
     "output_type": "stream",
     "text": [
      "171 is a Harshad no.\n"
     ]
    },
    {
     "name": "stdin",
     "output_type": "stream",
     "text": [
      "enter a number:  159\n"
     ]
    },
    {
     "name": "stdout",
     "output_type": "stream",
     "text": [
      "159 is not a Harshad no.\n"
     ]
    }
   ],
   "source": [
    "def checkHarshadNumber():    \n",
    "    num=input('enter a number: ')\n",
    "    sum=0\n",
    "    for i in range(len(num)):\n",
    "        sum=sum+int(num[i])\n",
    "    if int(num)%sum==0:\n",
    "        print(f'{num} is a Harshad no.')\n",
    "    else:\n",
    "        print(f'{num} is not a Harshad no.')\n",
    "\n",
    "checkHarshadNumber()\n",
    "checkHarshadNumber()"
   ]
  },
  {
   "cell_type": "markdown",
   "id": "1446d380-e436-4621-a919-f2952700537d",
   "metadata": {},
   "source": [
    "6. Write a Python program to print all pronic numbers between 1 and 100?\n",
    "\n",
    "Ans- "
   ]
  },
  {
   "cell_type": "code",
   "execution_count": 15,
   "id": "3d586af2-adcf-4d6e-9d35-900df53a44bd",
   "metadata": {},
   "outputs": [
    {
     "name": "stdout",
     "output_type": "stream",
     "text": [
      "[2, 6, 12, 20, 30, 42, 56, 72, 90, 110, 132, 156, 182, 210, 240, 272, 306, 342, 380, 420, 462, 506, 552, 600, 650, 702, 756, 812, 870, 930, 992, 1056, 1122, 1190, 1260, 1332, 1406, 1482, 1560, 1640, 1722, 1806, 1892, 1980, 2070, 2162, 2256, 2352, 2450, 2550, 2652, 2756, 2862, 2970, 3080, 3192, 3306, 3422, 3540, 3660, 3782, 3906, 4032, 4160, 4290, 4422, 4556, 4692, 4830, 4970, 5112, 5256, 5402, 5550, 5700, 5852, 6006, 6162, 6320, 6480, 6642, 6806, 6972, 7140, 7310, 7482, 7656, 7832, 8010, 8190, 8372, 8556, 8742, 8930, 9120, 9312, 9506, 9702, 9900, 10100]\n"
     ]
    }
   ],
   "source": [
    "def printPronicNumbers(start,end):\n",
    "    outputList = []\n",
    "    for i in range(start,end+1):\n",
    "        outputList.append((i)*(i+1))\n",
    "    print(outputList)\n",
    "                   \n",
    "printPronicNumbers(1,100)"
   ]
  },
  {
   "cell_type": "code",
   "execution_count": null,
   "id": "b87b92cc-18c9-4a47-9d97-d545481d35f2",
   "metadata": {},
   "outputs": [],
   "source": []
  }
 ],
 "metadata": {
  "kernelspec": {
   "display_name": "Python 3 (ipykernel)",
   "language": "python",
   "name": "python3"
  },
  "language_info": {
   "codemirror_mode": {
    "name": "ipython",
    "version": 3
   },
   "file_extension": ".py",
   "mimetype": "text/x-python",
   "name": "python",
   "nbconvert_exporter": "python",
   "pygments_lexer": "ipython3",
   "version": "3.10.6"
  }
 },
 "nbformat": 4,
 "nbformat_minor": 5
}
