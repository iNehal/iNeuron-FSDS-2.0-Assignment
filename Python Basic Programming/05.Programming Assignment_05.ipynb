{
 "cells": [
  {
   "cell_type": "markdown",
   "id": "95051dec-f041-4210-af25-5f7839a87e85",
   "metadata": {},
   "source": [
    "1. Write a Python Program to Find LCM?\n",
    "\n",
    "Ans- "
   ]
  },
  {
   "cell_type": "code",
   "execution_count": 1,
   "id": "95bd88ba-fd35-4a8e-afb7-2a8e4bf4a3c8",
   "metadata": {},
   "outputs": [
    {
     "name": "stdout",
     "output_type": "stream",
     "text": [
      "The LCM of 3,6 is 6\n",
      "The LCM of 5,2 is 10\n",
      "The LCM of 5,100 is 100\n"
     ]
    }
   ],
   "source": [
    "def findTheLcm(x_term,y_term):\n",
    "    if x_term > y_term:\n",
    "        greater = x_term\n",
    "    else:\n",
    "        greater = x_term\n",
    "    while True:\n",
    "        if((greater%x_term == 0) and (greater%y_term == 0)):\n",
    "            lcm = greater\n",
    "            break\n",
    "        else:\n",
    "            greater +=1\n",
    "    print(f'The LCM of {x_term},{y_term} is {lcm}')\n",
    "\n",
    "findTheLcm(3,6)\n",
    "findTheLcm(5,2)\n",
    "findTheLcm(5,100)"
   ]
  },
  {
   "cell_type": "markdown",
   "id": "4c771cd5-57ea-4c47-8561-068fbfc5fe22",
   "metadata": {},
   "source": [
    "2. Write a Python Program to Find HCF?\n",
    "\n",
    "Ans- "
   ]
  },
  {
   "cell_type": "code",
   "execution_count": 2,
   "id": "6e8ac314-4dd6-4629-a130-eac6fb1bce9b",
   "metadata": {},
   "outputs": [
    {
     "name": "stdout",
     "output_type": "stream",
     "text": [
      "The HCF of 6,12 is 6\n",
      "The HCF of 2,3 is 1\n",
      "The HCF of 10,23 is 1\n"
     ]
    }
   ],
   "source": [
    "def findTheHcf(x_term,y_term):\n",
    "    if x_term>y_term:\n",
    "        smaller = y_term\n",
    "    else:\n",
    "        smaller = x_term\n",
    "    for ele in range(1,smaller+1):\n",
    "        if((x_term%ele == 0) and (y_term%ele == 0)):\n",
    "            hcf = ele\n",
    "    print(f'The HCF of {x_term},{y_term} is {hcf}')\n",
    "\n",
    "findTheHcf(6,12)\n",
    "findTheHcf(2,3)\n",
    "findTheHcf(10,23)"
   ]
  },
  {
   "cell_type": "markdown",
   "id": "f0f7853a-7448-4a60-b543-5a99cd1b1cbb",
   "metadata": {},
   "source": [
    "3. Write a Python Program to Convert Decimal to Binary, Octal and Hexadecimal?\n",
    "\n",
    "Ans- "
   ]
  },
  {
   "cell_type": "code",
   "execution_count": 7,
   "id": "8c8c8df4-353a-4712-bbec-c845f62dd49f",
   "metadata": {},
   "outputs": [
    {
     "name": "stdin",
     "output_type": "stream",
     "text": [
      "Enter a Number:  1124\n"
     ]
    },
    {
     "name": "stdout",
     "output_type": "stream",
     "text": [
      "Binary Number -> 0b10001100100\n",
      "Octal Number -> 0o2144\n",
      "Hexadecimal Number -> 0x464\n"
     ]
    }
   ],
   "source": [
    "def DecimalToOther():\n",
    "    num = int(input('Enter a Number: '))\n",
    "    print(f'Binary Number -> {bin(num)}')\n",
    "    print(f'Octal Number -> {oct(num)}')    \n",
    "    print(f'Hexadecimal Number -> {hex(num)}')    \n",
    "\n",
    "DecimalToOther()"
   ]
  },
  {
   "cell_type": "markdown",
   "id": "382ac432-6afa-4803-8760-7e7320a727bd",
   "metadata": {},
   "source": [
    "4. Write a Python Program To Find ASCII value of a character?\n",
    "\n",
    "Ans- "
   ]
  },
  {
   "cell_type": "code",
   "execution_count": 10,
   "id": "97a8d256-a404-4913-8dc5-96722f943bee",
   "metadata": {},
   "outputs": [
    {
     "name": "stdin",
     "output_type": "stream",
     "text": [
      "Enter a Character:  n\n"
     ]
    },
    {
     "name": "stdout",
     "output_type": "stream",
     "text": [
      "Ascii Character of n is 110\n"
     ]
    }
   ],
   "source": [
    "def charToAscii():\n",
    "    char = input('Enter a Character: ')\n",
    "    if len(char) > 1:\n",
    "        print('Please Enter a Single Character')\n",
    "    else:\n",
    "        print(f'Ascii Character of {char} is {ord(char)}')\n",
    "\n",
    "charToAscii()"
   ]
  },
  {
   "cell_type": "markdown",
   "id": "230abd18-5339-4d9f-8c39-a951d075d43b",
   "metadata": {},
   "source": [
    "5. Write a Python Program to Make a Simple Calculator with 4 basic mathematical operations?\n",
    "\n",
    "Ans- "
   ]
  },
  {
   "cell_type": "code",
   "execution_count": 11,
   "id": "8d25c2d7-70b8-4fa5-8561-f9346c0dcd6b",
   "metadata": {},
   "outputs": [
    {
     "name": "stdout",
     "output_type": "stream",
     "text": [
      "Select a Arithmetic Operation:         \n",
      "1.Addition(+)        \n",
      "2.Division(-)        \n",
      "2.Multiplication(*)        \n",
      "4.Division(/)        \n",
      "3.Stop(0)\n",
      "\n"
     ]
    },
    {
     "name": "stdin",
     "output_type": "stream",
     "text": [
      "Enter a arithmetic operation ->  2\n"
     ]
    },
    {
     "name": "stdout",
     "output_type": "stream",
     "text": [
      "Please enter a valid operator\n"
     ]
    },
    {
     "name": "stdin",
     "output_type": "stream",
     "text": [
      "Enter a arithmetic operation ->  +\n",
      "\n",
      "Enter 1st Number:  2\n",
      "Enter 2nd Number:  9\n"
     ]
    },
    {
     "name": "stdout",
     "output_type": "stream",
     "text": [
      "2+9=11\n",
      "\n"
     ]
    },
    {
     "name": "stdin",
     "output_type": "stream",
     "text": [
      "Enter a arithmetic operation ->  -\n",
      "\n",
      "Enter 1st Number:  9\n",
      "Enter 2nd Number:  2\n"
     ]
    },
    {
     "name": "stdout",
     "output_type": "stream",
     "text": [
      "9-2=7\n",
      "\n"
     ]
    },
    {
     "name": "stdin",
     "output_type": "stream",
     "text": [
      "Enter a arithmetic operation ->  *\n",
      "\n",
      "Enter 1st Number:  9\n",
      "Enter 2nd Number:  9\n"
     ]
    },
    {
     "name": "stdout",
     "output_type": "stream",
     "text": [
      "9*9=81\n",
      "\n"
     ]
    },
    {
     "name": "stdin",
     "output_type": "stream",
     "text": [
      "Enter a arithmetic operation ->  /\n",
      "\n",
      "Enter 1st Number:  4\n",
      "Enter 2nd Number:  2\n"
     ]
    },
    {
     "name": "stdout",
     "output_type": "stream",
     "text": [
      "4/2=2.0\n",
      "\n"
     ]
    },
    {
     "name": "stdin",
     "output_type": "stream",
     "text": [
      "Enter a arithmetic operation ->  0\n"
     ]
    },
    {
     "name": "stdout",
     "output_type": "stream",
     "text": [
      "Program Stopped successfully\n"
     ]
    }
   ],
   "source": [
    "import operator\n",
    "\n",
    "ops = { \"+\": operator.add, \"-\": operator.sub, \"*\":operator.mul, \"/\":operator.truediv } \n",
    "\n",
    "print('Select a Arithmetic Operation: \\\n",
    "        \\n1.Addition(+)\\\n",
    "        \\n2.Division(-)\\\n",
    "        \\n2.Multiplication(*)\\\n",
    "        \\n4.Division(/)\\\n",
    "        \\n3.Stop(0)\\n')\n",
    "   \n",
    "\n",
    "while True:\n",
    "    operator = input('Enter a arithmetic operation -> ')\n",
    "    if operator == '0':\n",
    "        print(\"Program Stopped successfully\")\n",
    "        break\n",
    "    elif operator not in ['+','-','*','/']:\n",
    "        print(\"Please enter a valid operator\")\n",
    "    else:\n",
    "        num_1 = int(input('\\nEnter 1st Number: '))\n",
    "        num_2 = int(input('Enter 2nd Number: '))\n",
    "        print(f'{num_1}{operator}{num_2}={ops[operator](num_1,num_2)}\\n')"
   ]
  },
  {
   "cell_type": "code",
   "execution_count": null,
   "id": "494bbbe1-9fb0-4d2b-9a3f-8bf555111d3b",
   "metadata": {},
   "outputs": [],
   "source": []
  }
 ],
 "metadata": {
  "kernelspec": {
   "display_name": "Python 3 (ipykernel)",
   "language": "python",
   "name": "python3"
  },
  "language_info": {
   "codemirror_mode": {
    "name": "ipython",
    "version": 3
   },
   "file_extension": ".py",
   "mimetype": "text/x-python",
   "name": "python",
   "nbconvert_exporter": "python",
   "pygments_lexer": "ipython3",
   "version": "3.10.6"
  }
 },
 "nbformat": 4,
 "nbformat_minor": 5
}
