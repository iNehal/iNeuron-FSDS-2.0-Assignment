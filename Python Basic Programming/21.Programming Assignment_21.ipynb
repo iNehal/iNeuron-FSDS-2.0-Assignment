{
 "cells": [
  {
   "cell_type": "markdown",
   "id": "64e07512-764b-459f-8680-2de6b06ac9c6",
   "metadata": {},
   "source": [
    "Question1\n",
    "Write a function that takes a list and a number as arguments. Add the number to the end of the list, then remove the first element of the list. The function should then \n",
    "return the updated list.\n",
    "Examples:\n",
    "next_in_line([5, 6, 7, 8, 9], 1) ➞ [6, 7, 8, 9, 1]\n",
    "next_in_line([7, 6, 3, 23, 17], 10) ➞ [6, 3, 23, 17, 10]\n",
    "next_in_line([1, 10, 20, 42 ], 6) ➞ [10, 20, 42, 6]\n",
    "next_in_line([], 6) ➞ \"No list has been selected\""
   ]
  },
  {
   "cell_type": "code",
   "execution_count": 1,
   "id": "97d5b96c-be80-4450-afbf-759718c21f45",
   "metadata": {},
   "outputs": [
    {
     "name": "stdout",
     "output_type": "stream",
     "text": [
      "Output ➞ [6, 7, 8, 9, 1]\n",
      "Output ➞ [6, 3, 23, 17, 10]\n",
      "Output ➞ [10, 20, 42, 6]\n",
      "No list has been selected\n"
     ]
    }
   ],
   "source": [
    "def next_in_line(in_list,in_num):\n",
    "    if len(in_list) > 1:\n",
    "        in_list.append(in_num)\n",
    "        in_list.remove(in_list[0])\n",
    "        print(f'Output ➞ {in_list}')\n",
    "    else:\n",
    "        print('No list has been selected')\n",
    "\n",
    "next_in_line([5, 6, 7, 8, 9], 1) \n",
    "next_in_line([7, 6, 3, 23, 17], 10)\n",
    "next_in_line([1, 10, 20, 42 ], 6)\n",
    "next_in_line([], 6)"
   ]
  },
  {
   "cell_type": "markdown",
   "id": "129631a2-eaee-41e5-885b-210cc80eeb2a",
   "metadata": {},
   "source": []
  },
  {
   "cell_type": "markdown",
   "id": "34d9ec92-439e-4478-9b1b-9bd90859df6f",
   "metadata": {},
   "source": [
    "Question2\n",
    "Create the function that takes a list of dictionaries and returns the sum of people's budgets.\n",
    "Examples:\n",
    "get_budgets([ { \"name\": \"John\", \"age\": 21, \"budget\": 23000 }, { \"name\": \"Steve\", \"age\": 32, \"budget\": 40000 }, { \"name\": \"Martin\", \"age\": 16, \"budget\": 2700 } ]) ➞ 65700\n",
    "\n",
    "get_budgets([ { \"name\": \"John\", \"age\": 21, \"budget\": 29000 }, { \"name\": \"Steve\", \"age\": 32, \"budget\": 32000 }, { \"name\": \"Martin\", \"age\": 16, \"budget\": 1600 } ]) ➞ 62600"
   ]
  },
  {
   "cell_type": "code",
   "execution_count": 2,
   "id": "bd72e0d4-ddc4-4e50-9a42-7ae57c51b727",
   "metadata": {},
   "outputs": [
    {
     "name": "stdout",
     "output_type": "stream",
     "text": [
      "Output ➞ 65700\n",
      "Output ➞ 62600\n"
     ]
    }
   ],
   "source": [
    "def get_budgets(in_dict):\n",
    "    sum = 0\n",
    "    for ele in in_dict:\n",
    "        sum += ele[\"budget\"]\n",
    "    print(f'Output ➞ {sum}')\n",
    "    \n",
    "get_budgets([\n",
    "{ \"name\": \"John\", \"age\": 21, \"budget\": 23000 },\n",
    "{ \"name\": \"Steve\", \"age\": 32, \"budget\": 40000 },\n",
    "{ \"name\": \"Martin\", \"age\": 16, \"budget\": 2700 }\n",
    "])\n",
    "\n",
    "get_budgets([\n",
    "{ \"name\": \"John\", \"age\": 21, \"budget\": 29000 },\n",
    "{ \"name\": \"Steve\", \"age\": 32, \"budget\": 32000 },\n",
    "{ \"name\": \"Martin\", \"age\": 16, \"budget\": 1600 }\n",
    "])"
   ]
  },
  {
   "cell_type": "markdown",
   "id": "74b7c9a5-d368-4fc7-b006-e1c2453f84fe",
   "metadata": {},
   "source": []
  },
  {
   "cell_type": "markdown",
   "id": "e0cff7e3-6454-4c5f-b48e-0ad72f8b1d15",
   "metadata": {},
   "source": [
    "Question3\n",
    "Create a function that takes a string and returns a string with its letters in alphabetical order.\n",
    "Examples:\n",
    "alphabet_soup(\"hello\") ➞ \"ehllo\"\n",
    "alphabet_soup(\"edabit\") ➞ \"abdeit\"\n",
    "alphabet_soup(\"hacker\") ➞ \"acehkr\"\n",
    "alphabet_soup(\"geek\") ➞ \"eegk\"\n",
    "alphabet_soup(\"javascript\") ➞ \"aacijprstv\""
   ]
  },
  {
   "cell_type": "code",
   "execution_count": 3,
   "id": "90d4d05f-c667-4a82-b5a2-1a492f2aa512",
   "metadata": {},
   "outputs": [
    {
     "name": "stdout",
     "output_type": "stream",
     "text": [
      "hello ➞ ehllo\n",
      "edabit ➞ abdeit\n",
      "hacker ➞ acehkr\n",
      "geek ➞ eegk\n",
      "javascript ➞ aacijprstv\n"
     ]
    }
   ],
   "source": [
    "def alphabet_soup(in_string):\n",
    "    out_string = ''.join(sorted(in_string))\n",
    "    print(f'{in_string} ➞ {out_string}')\n",
    "\n",
    "alphabet_soup(\"hello\")\n",
    "alphabet_soup(\"edabit\")\n",
    "alphabet_soup(\"hacker\")\n",
    "alphabet_soup(\"geek\")\n",
    "alphabet_soup(\"javascript\")"
   ]
  },
  {
   "cell_type": "markdown",
   "id": "4613c4f9-b1c4-40b6-a25e-1714f28e04b6",
   "metadata": {},
   "source": []
  },
  {
   "cell_type": "markdown",
   "id": "3f255ff5-56a5-466b-851a-7a99d08d40f7",
   "metadata": {},
   "source": [
    "Question4\n",
    "What will be the value of your investment at the end of the 10 year period?\n",
    "Create a function that accepts the principal p, the term in years t, the interest rate r, and the number of compounding periods per year n. The function returns the value \n",
    "at the end of term rounded to the nearest cent.\n",
    "\n",
    "For the example above:\n",
    "compound_interest(10000, 10, 0.06, 12) ➞ 18193.97\n",
    "Note that the interest rate is given as a decimal and n=12 because with monthly compounding there are 12 periods per year. Compounding can also be done annually, quarterly,\n",
    "weekly, or daily.\n",
    "\n",
    "Examples:\n",
    "compound_interest(100, 1, 0.05, 1) ➞ 105.0\n",
    "compound_interest(3500, 15, 0.1, 4) ➞ 15399.26\n",
    "compound_interest(100000, 20, 0.15, 365) ➞ 2007316.26"
   ]
  },
  {
   "cell_type": "code",
   "execution_count": 4,
   "id": "655300d9-7637-40d4-811c-27ef215fc34a",
   "metadata": {},
   "outputs": [
    {
     "name": "stdout",
     "output_type": "stream",
     "text": [
      "Output ➞ 105.00\n",
      "Output ➞ 15399.26\n",
      "Output ➞ 2007316.26\n"
     ]
    }
   ],
   "source": [
    "def compound_interest(principal,years,roi,cp):\n",
    "    ci = principal*(1+(roi/cp))**(cp*years)\n",
    "    print(f'Output ➞ {ci:.2f}')\n",
    "\n",
    "compound_interest(100, 1, 0.05, 1)\n",
    "compound_interest(3500, 15, 0.1, 4)\n",
    "compound_interest(100000, 20, 0.15, 365)"
   ]
  },
  {
   "cell_type": "markdown",
   "id": "3fc500f4-06d2-4e4a-b7d6-aa7b89348c7f",
   "metadata": {},
   "source": []
  },
  {
   "cell_type": "markdown",
   "id": "683ac377-de47-4f51-9aa0-3c2dc1ebb9c2",
   "metadata": {},
   "source": [
    "Question5\n",
    "Write a function that takes a list of elements and returns only the integers.\n",
    "Examples:\n",
    "return_only_integer([9, 2, \"space\", \"car\", \"lion\", 16]) ➞ [9, 2, 16]\n",
    "return_only_integer([\"hello\", 81, \"basketball\", 123, \"fox\"]) ➞ [81, 123]\n",
    "return_only_integer([10, \"121\", 56, 20, \"car\", 3, \"lion\"]) ➞ [10, 56, 20,3]\n",
    "return_only_integer([\"String\", True, 3.3, 1]) ➞ [1]"
   ]
  },
  {
   "cell_type": "code",
   "execution_count": 5,
   "id": "673cbd96-cfa2-4e9e-b60d-0e9f1a623a5f",
   "metadata": {},
   "outputs": [
    {
     "name": "stdout",
     "output_type": "stream",
     "text": [
      "[9, 2, 'space', 'car', 'lion', 16] ➞ [9, 2, 16]\n",
      "['hello', 81, 'basketball', 123, 'fox'] ➞ [81, 123]\n",
      "[10, '121', 56, 20, 'car', 3, 'lion'] ➞ [10, 56, 20, 3]\n",
      "['String', True, 3.3, 1] ➞ [1]\n"
     ]
    }
   ],
   "source": [
    "def return_only_integer(in_list):\n",
    "    out_list = []\n",
    "    for ele in in_list:\n",
    "        if type(ele) == int:\n",
    "            out_list.append(ele)\n",
    "    print(f'{in_list} ➞ {out_list}')\n",
    "    \n",
    "return_only_integer([9, 2, \"space\", \"car\", \"lion\", 16])\n",
    "return_only_integer([\"hello\", 81, \"basketball\", 123, \"fox\"])\n",
    "return_only_integer([10, \"121\", 56, 20, \"car\", 3, \"lion\"]) \n",
    "return_only_integer([\"String\", True, 3.3, 1])"
   ]
  },
  {
   "cell_type": "code",
   "execution_count": null,
   "id": "6759b2dd-1af8-4699-acb2-25cc5f252990",
   "metadata": {},
   "outputs": [],
   "source": []
  }
 ],
 "metadata": {
  "kernelspec": {
   "display_name": "Python 3 (ipykernel)",
   "language": "python",
   "name": "python3"
  },
  "language_info": {
   "codemirror_mode": {
    "name": "ipython",
    "version": 3
   },
   "file_extension": ".py",
   "mimetype": "text/x-python",
   "name": "python",
   "nbconvert_exporter": "python",
   "pygments_lexer": "ipython3",
   "version": "3.10.6"
  }
 },
 "nbformat": 4,
 "nbformat_minor": 5
}
