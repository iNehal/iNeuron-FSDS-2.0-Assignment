{
 "cells": [
  {
   "cell_type": "markdown",
   "id": "069ee1ac-e4b7-4fdb-a2c8-24c3261962f1",
   "metadata": {},
   "source": [
    "1. Write a Python program to find words which are greater than given length k?\n",
    "\n",
    "Ans- "
   ]
  },
  {
   "cell_type": "code",
   "execution_count": 9,
   "id": "88346d41-597a-473f-99f6-5d764cd6b117",
   "metadata": {},
   "outputs": [
    {
     "name": "stdin",
     "output_type": "stream",
     "text": [
      "enter string:  The quick brown fox jumps over the lazy dog\n",
      "enter length of string:  3\n"
     ]
    },
    {
     "name": "stdout",
     "output_type": "stream",
     "text": [
      "quick,brown,jumps,over,lazy\n"
     ]
    }
   ],
   "source": [
    "def checklengthstring():\n",
    "    string=input('enter string: ')\n",
    "    string_length=int(input('enter length of string: '))\n",
    "    output=[]\n",
    "    for i in string.split():\n",
    "        if len(i)>string_length:\n",
    "            output.append(i)\n",
    "    print(','.join(output))\n",
    "checklengthstring()"
   ]
  },
  {
   "cell_type": "markdown",
   "id": "e6f696b6-7e95-4e95-ac5f-ad4677125337",
   "metadata": {},
   "source": [
    "2. Write a Python program for removing i-th character from a string?\n",
    "\n",
    "Ans- "
   ]
  },
  {
   "cell_type": "code",
   "execution_count": 12,
   "id": "c84f61ee-12d6-4eae-bee4-33a26a8c017a",
   "metadata": {},
   "outputs": [
    {
     "name": "stdin",
     "output_type": "stream",
     "text": [
      "enter character:  ineuron\n",
      "enter ith character:  0\n"
     ]
    },
    {
     "name": "stdout",
     "output_type": "stream",
     "text": [
      "neuron\n"
     ]
    }
   ],
   "source": [
    "def removecharacter():\n",
    "    string=input('enter character: ')\n",
    "    string_char=int(input('enter ith character: '))\n",
    "    output=''\n",
    "    for i in range(len(string)):\n",
    "        if i != string_char:\n",
    "            output=output+string[i]\n",
    "    print(output)\n",
    "removecharacter()"
   ]
  },
  {
   "cell_type": "markdown",
   "id": "88cbfcd3-2f2c-4df4-b609-81d44f294ee8",
   "metadata": {},
   "source": [
    "3. Write a Python program to split and join a string?\n",
    "\n",
    "Ans- "
   ]
  },
  {
   "cell_type": "code",
   "execution_count": 20,
   "id": "9a59ac81-d83e-4581-ae8b-12b37b968975",
   "metadata": {},
   "outputs": [
    {
     "name": "stdin",
     "output_type": "stream",
     "text": [
      "enter string:  Full Stack Data Science\n"
     ]
    },
    {
     "name": "stdout",
     "output_type": "stream",
     "text": [
      "split string: ['Full', 'Stack', 'Data', 'Science']\n",
      "join string: Full Stack Data Science\n"
     ]
    }
   ],
   "source": [
    "def splitandjoin():\n",
    "    string=input('enter string: ')\n",
    "    print(f\"split string: {string.split()}\")\n",
    "    print(f\"join string: {' '.join(string.split(' '))}\")\n",
    "splitandjoin()"
   ]
  },
  {
   "cell_type": "markdown",
   "id": "842a69bd-cea5-44e1-9aeb-df4cd6d3da30",
   "metadata": {},
   "source": [
    "4. Write a Python to check if a given string is binary string or not?\n",
    "\n",
    "Ans- "
   ]
  },
  {
   "cell_type": "code",
   "execution_count": 23,
   "id": "df5d21ce-5115-4ef2-a050-8a42722fe5e3",
   "metadata": {},
   "outputs": [
    {
     "name": "stdout",
     "output_type": "stream",
     "text": [
      "The string is a binary string.\n"
     ]
    }
   ],
   "source": [
    "def is_binary_string(string):\n",
    "    for char in string:\n",
    "        if char != '0' and char != '1':\n",
    "            return False\n",
    "    return True\n",
    "\n",
    "\n",
    "# Example usage\n",
    "string = \"101010\"\n",
    "result = is_binary_string(string)\n",
    "if result:\n",
    "    print(\"The string is a binary string.\")\n",
    "else:\n",
    "    print(\"The string is not a binary string.\")\n"
   ]
  },
  {
   "cell_type": "markdown",
   "id": "05ce40bb-9f51-43cd-bde2-749a01dfb2ad",
   "metadata": {},
   "source": [
    "5. Write a Python program to find uncommon words from two Strings?\n",
    "\n",
    "Ans- "
   ]
  },
  {
   "cell_type": "code",
   "execution_count": 25,
   "id": "ba0231d6-3a31-451b-bd40-c54902699c6b",
   "metadata": {},
   "outputs": [
    {
     "name": "stdin",
     "output_type": "stream",
     "text": [
      "Enter the String 1:  good students\n",
      "Enter the String 2:  bad students\n"
     ]
    },
    {
     "name": "stdout",
     "output_type": "stream",
     "text": [
      "{'good', 'bad'}\n"
     ]
    }
   ],
   "source": [
    "def unCommonWords():\n",
    "    in_string_1 = set(input(\"Enter the String 1: \").split(' '))\n",
    "    in_string_2 = set(input(\"Enter the String 2: \").split(' '))\n",
    "    out_string = (in_string_1.union(in_string_2)).difference(in_string_1.intersection(in_string_2))\n",
    "    print(out_string)\n",
    "\n",
    "unCommonWords()"
   ]
  },
  {
   "cell_type": "markdown",
   "id": "3130f560-7826-4874-bbad-c93905c6853d",
   "metadata": {},
   "source": [
    "6. Write a Python to find all duplicate characters in string?\n",
    "\n",
    "Ans- "
   ]
  },
  {
   "cell_type": "code",
   "execution_count": 26,
   "id": "cc9ea73c-7b81-4aa0-bfe6-e52b7956f279",
   "metadata": {},
   "outputs": [
    {
     "name": "stdin",
     "output_type": "stream",
     "text": [
      "Enter the string:  good students\n"
     ]
    },
    {
     "name": "stdout",
     "output_type": "stream",
     "text": [
      "Duplicate characters are: ['d', 'o', 't', 's']\n"
     ]
    }
   ],
   "source": [
    "def duplicateChars():\n",
    "    in_string = input('Enter the string: ')\n",
    "    non_duplicate_list = []\n",
    "    duplicate_list = []\n",
    "    for ele in in_string:\n",
    "        if ele not in non_duplicate_list:\n",
    "            non_duplicate_list.append(ele)\n",
    "        else:\n",
    "            duplicate_list.append(ele)\n",
    "    print(f'Duplicate characters are: {list(set(duplicate_list))}')\n",
    "        \n",
    "duplicateChars()"
   ]
  },
  {
   "cell_type": "markdown",
   "id": "a4cab259-e19f-49e5-8bbe-5a76f7cbab05",
   "metadata": {},
   "source": [
    "7. Write a Python Program to check if a string contains any special character?\n",
    "\n",
    "Ans- "
   ]
  },
  {
   "cell_type": "code",
   "execution_count": 30,
   "id": "f8b95269-6495-4dee-b41f-bd8516c941c3",
   "metadata": {},
   "outputs": [
    {
     "name": "stdin",
     "output_type": "stream",
     "text": [
      "enter string:  @good students\n"
     ]
    },
    {
     "name": "stdout",
     "output_type": "stream",
     "text": [
      "There are 1 Speical Characters in @good students which are ['@']\n"
     ]
    },
    {
     "name": "stdin",
     "output_type": "stream",
     "text": [
      "enter string:  good students\n"
     ]
    },
    {
     "name": "stdout",
     "output_type": "stream",
     "text": [
      "There are 0 Speical Characters in good students which are []\n"
     ]
    }
   ],
   "source": [
    "def isspecialcharacter():\n",
    "    spl_chars = '[@_!#$%^&*()<>?/\\|}{~:]'\n",
    "    string=input('enter string: ')\n",
    "    count = 0\n",
    "    char_list = []\n",
    "    for i in string:\n",
    "        if i in spl_chars:\n",
    "            char_list.append(i)\n",
    "            count = count+1\n",
    "    print(f'There are {count} Speical Characters in {string} which are {char_list}')\n",
    "isspecialcharacter()\n",
    "isspecialcharacter()"
   ]
  },
  {
   "cell_type": "code",
   "execution_count": null,
   "id": "119a3f7d-0959-4709-b562-84dae8fd4779",
   "metadata": {},
   "outputs": [],
   "source": []
  }
 ],
 "metadata": {
  "kernelspec": {
   "display_name": "Python 3 (ipykernel)",
   "language": "python",
   "name": "python3"
  },
  "language_info": {
   "codemirror_mode": {
    "name": "ipython",
    "version": 3
   },
   "file_extension": ".py",
   "mimetype": "text/x-python",
   "name": "python",
   "nbconvert_exporter": "python",
   "pygments_lexer": "ipython3",
   "version": "3.10.6"
  }
 },
 "nbformat": 4,
 "nbformat_minor": 5
}
